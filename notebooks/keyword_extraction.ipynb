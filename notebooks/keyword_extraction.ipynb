{
 "cells": [
  {
   "cell_type": "code",
   "execution_count": 12,
   "metadata": {},
   "outputs": [],
   "source": [
    "import yake\n",
    "from sklearn.feature_extraction.text import TfidfVectorizer"
   ]
  },
  {
   "cell_type": "code",
   "execution_count": 3,
   "metadata": {},
   "outputs": [],
   "source": [
    "description = '''\n",
    "1.0 FTE Full time Day - 08 Hour R2437350 Hybrid 84866 IT RESEARCH Technology & Digital Solutions 1830 Embarcadero Road,PALO ALTO,California\n",
    "\n",
    "If you're ready to be part of our legacy of hope and innovation, we encourage you to take the first step and explore our current job openings. Your best is waiting to be discovered...\n",
    "\n",
    "Day - 08 Hour (United States of America)\n",
    "\n",
    "This is a Stanford Health Care job.\n",
    "\n",
    "A Brief Overview\n",
    "The Senior Biomedical Informatics Data Scientist will partner with researchers and clinicians to enable effective and efficient use of data and resources available via Stanford's research clinical data repository (STARR, https://starr.stanford.edu/about-starr ) including the Electronic Health Records in the OMOP Common Data Model, radiology and cardiology imaging data and associated metadata, and new data types as they get integrated along with their databases and respective cohort query tools and interfaces e.g., OHDSI ATLAS. This individual will enable researchers to maximize their understanding, interpretation and use of these clinical and research tools for more informed and productive research, clinical trials, patient care and quality outcome projects.\n",
    "Clean, extract, transform and analyze various kinds of clinical data to create analysis-ready datasets that follow the FAIR (Findable, Accessible, Interoperable and Re-usable) principles. Partner with researchers and clinicians to enable effective and efficient use of Stanford Clinical data and resources for the advancement of research and the educational mission.\n",
    "\n",
    "Locations\n",
    "Stanford Health Care\n",
    "\n",
    "What you will do\n",
    "• Work closely with the data science and engineering team on data quality analysis. Develop processes to measure and ensure quality, completeness, integrity and compliance of institutional research data assets, including data/metadata documentation and data model specifications.\n",
    "• Work closely with the hospital clinical teams to understand the provenance of the clinical data as well as the data workflow that will enrich and augment the research ready datasets.\n",
    "• Identify best practices in the technical community and help to shape and implement policies that enhance data quality, compliance and customer support. Activities will include attending conferences, taking trainings (e.g. Coursera), reading peer review publications, engaging in customer feedback etc.\n",
    "• Develop ETL (extract, transform, load) specifications to go from raw data to research ready datasets. Work closely with the engineering team on production implementation of the ETL’s and methods. Run QA metrics as needed to generate dashboards\n",
    "• Employ new and existing tools to interpret, analyze, and visualize relationships in data. Create databases, datasets and reports and perform statistical analyses appropriate to data. Use system reports and analyses to identify potentially problematic data, make corrections, and determine root cause for data problems from input errors or inadequate field edits, and suggest possible solutions.\n",
    "• Analyze and incorporate external data sets that may augment the power of clinical data such as social determinants of health data, claims data, environmental data, death data etc.\n",
    "• Represent Stanford through presentations at technical conferences, consortiums, participation in standard committees, working groups and other venues.\n",
    "• Engage in other departmental activities to ensure an inclusive and transparent work culture such as continuous process improvement, agile software development, documentation, writing of manuscripts and white papers, creating training videos\n",
    "• Provides guidance and training to less experienced data scientists; mentor students and interns\n",
    "\n",
    "Education Qualifications\n",
    "• Bachelor’s degree in a scientific field (Engineering, Math, Physics, Chem). Relevant experience would be considered in lieu of a degree.\n",
    "\n",
    "Experience Qualifications\n",
    "• 4+ years of related experience. Masters or PhD may count in lieu of experience.\n",
    "\n",
    "Required Knowledge, Skills and Abilities\n",
    "• Strong analytical skills.\n",
    "• Experience with data manipulation and integration, databases, and statistics.\n",
    "• Fluency with data science programming paradigms such as Jupyter notebooks, SQL,\n",
    "• Python or R.\n",
    "• Ability to understand scientific literature, experimental procedures and their limitations, and applications of this information in the research and clinical setting.\n",
    "• Familiarity with one or more data types such as Electronic Health Records (EHR), radiology, omics, device data, wearable data, pathology etc.\n",
    "• Strong written and oral communication skills as demonstrated by technical manuscripts, poster presentations, conference speaking, and other forums\n",
    "• Effective Communicator with the ability to engage with all levels in the organization.\n",
    "• Knowledge of the nuanced interaction of Clinical systems used between the Stanford Hospitals.\n",
    "• Ability to work with little supervision.\n",
    "\n",
    "Physical Demands and Work Conditions\n",
    "Blood Borne Pathogens\n",
    "• Category III - Tasks that involve NO exposure to blood, body fluids or tissues, and Category I tasks that are not a condition of employment\n",
    "\n",
    "These principles apply to ALL employees:\n",
    "\n",
    "SHC Commitment to Providing an Exceptional Patient & Family Experience\n",
    "\n",
    "Stanford Health Care sets a high standard for delivering value and an exceptional experience for our patients and families. Candidates for employment and existing employees must adopt and execute C-I-CARE standards for all of patients, families and towards each other. C-I-CARE is the foundation of Stanford’s patient-experience and represents a framework for patient-centered interactions. Simply put, we do what it takes to enable and empower patients and families to focus on health, healing and recovery.\n",
    "\n",
    "You will do this by executing against our three experience pillars, from the patient and family’s perspective:\n",
    "• Know Me: Anticipate my needs and status to deliver effective care\n",
    "• Show Me the Way: Guide and prompt my actions to arrive at better outcomes and better health\n",
    "• Coordinate for Me: Own the complexity of my care through coordination\n",
    "\n",
    "Equal Opportunity Employer Stanford Health Care (SHC) strongly values diversity and is committed to equal opportunity and non-discrimination in all of its policies and practices, including the area of employment. Accordingly, SHC does not discriminate against any person on the basis of race, color, sex, sexual orientation or gender identity and/or expression, religion, age, national or ethnic origin, political beliefs, marital status, medical condition, genetic information, veteran status, or disability, or the perception of any of the above. People of all genders, members of all racial and ethnic groups, people with disabilities, and veterans are encouraged to apply. Qualified applicants with criminal convictions will be considered after an individualized assessment of the conviction and the job requirements.\n",
    "\n",
    "Base Pay Scale: Generally starting at $55.80 - $73.92 per hour\n",
    "\n",
    "The salary of the finalist selected for this role will be set based on a variety of factors, including but not limited to, internal equity, experience, education, specialty and training. This pay scale is not a promise of a particular wage\n",
    "'''"
   ]
  },
  {
   "cell_type": "code",
   "execution_count": 11,
   "metadata": {},
   "outputs": [
    {
     "data": {
      "text/plain": [
       "[('FTE Full time', 0.0011938157431390056),\n",
       " ('Stanford Health Care', 0.003725070642026324),\n",
       " ('Full time Day', 0.004031904052294564),\n",
       " ('Embarcadero Road,PALO ALTO,California', 0.004432293977570661),\n",
       " ('FTE Full', 0.004739663666773152),\n",
       " ('Data', 0.006667705063714647),\n",
       " ('clinical data', 0.011907023742827611),\n",
       " ('Stanford Health', 0.013685555838866333),\n",
       " ('Stanford Clinical data', 0.014291486907551389),\n",
       " ('Health Care', 0.015500289781716574),\n",
       " ('Embarcadero Road,PALO', 0.016909770188685166),\n",
       " ('Full time', 0.017176642801139046),\n",
       " ('Stanford research clinical', 0.019590222748421912),\n",
       " ('research clinical data', 0.019617193673679353),\n",
       " ('RESEARCH Technology', 0.020337019318759815),\n",
       " ('Experience Stanford Health', 0.022026940247440254),\n",
       " ('Stanford', 0.024417819750568497),\n",
       " ('Electronic Health Records', 0.024432216461451325),\n",
       " ('clinical', 0.02553686300854865),\n",
       " ('Health', 0.02624123061290959)]"
      ]
     },
     "execution_count": 11,
     "metadata": {},
     "output_type": "execute_result"
    }
   ],
   "source": [
    "kw_extractor = yake.KeywordExtractor()\n",
    "keywords = kw_extractor.extract_keywords(description)\n",
    "\n",
    "keywords"
   ]
  },
  {
   "cell_type": "code",
   "execution_count": 14,
   "metadata": {},
   "outputs": [
    {
     "data": {
      "text/plain": [
       "['data',\n",
       " 'clinical',\n",
       " 'experience',\n",
       " 'stanford',\n",
       " 'care',\n",
       " 'health',\n",
       " 'research',\n",
       " 'work',\n",
       " 'patient',\n",
       " 'datasets',\n",
       " 'effective',\n",
       " 'enable',\n",
       " 'including',\n",
       " 'quality',\n",
       " 'ready',\n",
       " 'use',\n",
       " 'ability',\n",
       " 'analyze',\n",
       " 'closely',\n",
       " 'databases',\n",
       " 'employment',\n",
       " 'engineering',\n",
       " 'families',\n",
       " 'hour',\n",
       " 'job',\n",
       " 'patients',\n",
       " 'researchers',\n",
       " 'shc',\n",
       " 'skills',\n",
       " 'starr']"
      ]
     },
     "execution_count": 14,
     "metadata": {},
     "output_type": "execute_result"
    }
   ],
   "source": [
    "# Create a TF-IDF Vectorizer\n",
    "vectorizer = TfidfVectorizer(stop_words='english')\n",
    "\n",
    "# Fit and transform the text\n",
    "tfidf_matrix = vectorizer.fit_transform([description])\n",
    "\n",
    "# Get feature names (words)\n",
    "feature_names = vectorizer.get_feature_names_out()\n",
    "\n",
    "# Get the scores for each word\n",
    "scores = tfidf_matrix.toarray().flatten()\n",
    "\n",
    "# Create a dictionary of words and their scores\n",
    "word_scores = dict(zip(feature_names, scores))\n",
    "\n",
    "# Sort the words by their scores\n",
    "sorted_words = sorted(word_scores.items(), key=lambda x: x[1], reverse=True)\n",
    "\n",
    "# Print the top keywords\n",
    "top_keywords = [word for word, score in sorted_words[:30]]\n",
    "top_keywords"
   ]
  },
  {
   "cell_type": "code",
   "execution_count": null,
   "metadata": {},
   "outputs": [],
   "source": []
  }
 ],
 "metadata": {
  "kernelspec": {
   "display_name": "myenv",
   "language": "python",
   "name": "python3"
  },
  "language_info": {
   "codemirror_mode": {
    "name": "ipython",
    "version": 3
   },
   "file_extension": ".py",
   "mimetype": "text/x-python",
   "name": "python",
   "nbconvert_exporter": "python",
   "pygments_lexer": "ipython3",
   "version": "3.12.0"
  }
 },
 "nbformat": 4,
 "nbformat_minor": 2
}
